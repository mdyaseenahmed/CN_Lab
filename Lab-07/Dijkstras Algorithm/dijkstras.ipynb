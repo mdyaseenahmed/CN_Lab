{
 "metadata": {
  "language_info": {
   "codemirror_mode": {
    "name": "ipython",
    "version": 3
   },
   "file_extension": ".py",
   "mimetype": "text/x-python",
   "name": "python",
   "nbconvert_exporter": "python",
   "pygments_lexer": "ipython3",
   "version": "3.7.6-final"
  },
  "orig_nbformat": 2,
  "kernelspec": {
   "name": "python3",
   "display_name": "Python 3.7.6 64-bit",
   "metadata": {
    "interpreter": {
     "hash": "05dbe9cddbfe9771feb358c8d45dbe8bf73dac749dc5e7a7273c03a699423a19"
    }
   }
  }
 },
 "nbformat": 4,
 "nbformat_minor": 2,
 "cells": [
  {
   "cell_type": "code",
   "execution_count": null,
   "metadata": {},
   "outputs": [],
   "source": [
    "# Dijkstras Algorithm\n",
    "\n",
    "BMS College of Engineering - Dr Kavitha Sooda <br />\n",
    "\n",
    "![](https://cdn.kastatic.org/ka-perseus-images/0d415093c4d2160530541f0170204200c89111d3.svg)\n",
    "\n",
    "\n",
    "\n",
    "# Objective\n",
    "- Implement Dijkstra’s algorithm to compute the shortest path for a given topology.\n",
    "- Create a function to accept a topology(Graph)\n",
    "- Create a function to find shortest path between 2 points on the topology"
   ]
  },
  {
   "cell_type": "code",
   "execution_count": 6,
   "metadata": {},
   "outputs": [],
   "source": [
    "### NOTE Add or remove any functions from the class to suit your needs\n",
    "\n",
    "import sys\n",
    "\n",
    "class Graph: \n",
    "    def __init__(self,vertices):\n",
    "        self.V = vertices \n",
    "        self.graph = [[0 for column in range(vertices)]  \n",
    "                    for row in range(vertices)]\n",
    "    \n",
    "    def printSolution(self, dist): \n",
    "        print(\"Vertex \\tDistance from Source Vertex\")\n",
    "        for node in range(self.V): \n",
    "            print(node, \"\\t\", dist[node]) \n",
    "   \n",
    "    def minDistance(self, dist, sptSet): \n",
    "       \n",
    "        min = sys.maxsize \n",
    "  \n",
    "        for v in range(self.V): \n",
    "            if dist[v] < min and sptSet[v] == False: \n",
    "                min = dist[v] \n",
    "                min_index = v \n",
    "  \n",
    "        return min_index \n",
    "    \n",
    "    def dijkstra(self, src):\n",
    "        dist = [sys.maxsize] * self.V \n",
    "        dist[src] = 0\n",
    "        sptSet = [False] * self.V \n",
    "  \n",
    "        for cout in range(self.V): \n",
    "\n",
    "            u = self.minDistance(dist, sptSet) \n",
    "            \n",
    "            sptSet[u] = True\n",
    "            \n",
    "            for v in range(self.V): \n",
    "                if self.graph[u][v] > 0 and sptSet[v] == False and dist[v] > dist[u] + self.graph[u][v]: \n",
    "                        dist[v] = dist[u] + self.graph[u][v] \n",
    "  \n",
    "        self.printSolution(dist)"
   ]
  },
  {
   "cell_type": "code",
   "execution_count": 5,
   "metadata": {},
   "outputs": [
    {
     "output_type": "stream",
     "name": "stdout",
     "text": [
      "Vertex \tDistance from Source\n0 \t 0\n1 \t 4\n2 \t 12\n3 \t 19\n4 \t 21\n5 \t 11\n6 \t 9\n7 \t 8\n8 \t 14\n"
     ]
    }
   ],
   "source": [
    "g = Graph(9) \n",
    "g.graph = [[0, 4, 0, 0, 0, 0, 0, 8, 0], \n",
    "        [4, 0, 8, 0, 0, 0, 0, 11, 0], \n",
    "        [0, 8, 0, 7, 0, 4, 0, 0, 2], \n",
    "        [0, 0, 7, 0, 9, 14, 0, 0, 0], \n",
    "        [0, 0, 0, 9, 0, 10, 0, 0, 0], \n",
    "        [0, 0, 4, 14, 10, 0, 2, 0, 0], \n",
    "        [0, 0, 0, 0, 0, 2, 0, 1, 6], \n",
    "        [8, 11, 0, 0, 0, 0, 1, 0, 7], \n",
    "        [0, 0, 2, 0, 0, 0, 6, 7, 0] \n",
    "        ]\n",
    "  \n",
    "g.dijkstra(0)"
   ]
  }
 ]
}