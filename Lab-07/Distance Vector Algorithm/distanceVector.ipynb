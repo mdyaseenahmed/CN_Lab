{
 "metadata": {
  "language_info": {
   "codemirror_mode": {
    "name": "ipython",
    "version": 3
   },
   "file_extension": ".py",
   "mimetype": "text/x-python",
   "name": "python",
   "nbconvert_exporter": "python",
   "pygments_lexer": "ipython3",
   "version": "3.7.6-final"
  },
  "orig_nbformat": 2,
  "kernelspec": {
   "name": "python3",
   "display_name": "Python 3.7.6 64-bit",
   "metadata": {
    "interpreter": {
     "hash": "05dbe9cddbfe9771feb358c8d45dbe8bf73dac749dc5e7a7273c03a699423a19"
    }
   }
  }
 },
 "nbformat": 4,
 "nbformat_minor": 2,
 "cells": [
  {
   "cell_type": "code",
   "execution_count": null,
   "metadata": {},
   "outputs": [],
   "source": [
    "**# Objective\n",
    "Use Distance vector Algorithm to find shortest path between all points in the given Topology. By calling the \"start\" function, all routing tables in the topology must have the shortest distance to all possible destinations and the next hop point to follow that path\n",
    "\n",
    "## Structure\n",
    "### Every point(router) has a routing table with \n",
    "    1) Destination\n",
    "    2) Cost\n",
    "    3) Next hop point\n",
    "### A Topology with access to all the routing tables from points in the network"
   ]
  },
  {
   "cell_type": "code",
   "execution_count": null,
   "metadata": {},
   "outputs": [],
   "source": [
    "# Your task\n",
    "## Create a Routing table class\n",
    "    1) Add values to the table in the beginning to show direct connections\n",
    "    2) Can recieve messages from its neighbours and make the appropriate changes to its own routing table\n",
    "    3) Print the routing table\n",
    "## Create Topology Class\n",
    "    1) Create the individual routing tables and store it\n",
    "    2) Add direct connections to both routing tables seperately\n",
    "    3) Send the recived messages from one point to another\n",
    "    4) Print the routing tables\n",
    "    5) \"Start\" by sending the first message, which will start correcting all the neighbour points untill all routing tables contain shortest paths"
   ]
  },
  {
   "cell_type": "code",
   "execution_count": null,
   "metadata": {},
   "outputs": [],
   "source": [
    "# Video for reference\n",
    "### Watch this first if the concepts are unclear\n",
    "https://www.youtube.com/watch?v=dmS1t2twFrI&t\n",
    "\n",
    "![](https://i.ytimg.com/vi/dmS1t2twFrI/maxresdefault.jpg)\n"
   ]
  },
  {
   "cell_type": "code",
   "execution_count": null,
   "metadata": {},
   "outputs": [],
   "source": [
    "# Routing table class\n",
    "- Change the code anyway you like its just a basic stucture"
   ]
  },
  {
   "cell_type": "code",
   "execution_count": null,
   "metadata": {},
   "outputs": [],
   "source": [
    "# Individual routing tables\n",
    "class Routing_table:\n",
    "    def __init__(self, current):\n",
    "        # Current point(router)\n",
    "        self.current = current\n",
    "\n",
    "        # Routing table\n",
    "        ### Format:-\n",
    "        ### Dest   Cost   NextHopPoint\n",
    "        ###  C       0         C\n",
    "        \n",
    "        self.table = {'Dest':[current], 'Cost':[0], 'NextH':[current]}\n",
    "\n",
    "        # Neighbours array to store directly connected points\n",
    "        self.neig = []\n",
    "        \n",
    "                    \n",
    "        \n",
    "    # Connects the points to each other \n",
    "    def add_direct_connection(self, p, cost):\n",
    "        pass\n",
    "    \n",
    "    # This function will return the next msges to send if any changes are made\n",
    "    ## Hint: Use flags\n",
    "    def recieve_msg(self):\n",
    "        pass\n",
    "    \n",
    "\n",
    "    # Function to print Current routing table\n",
    "    def print_routing_table(self):\n",
    "        pass"
   ]
  },
  {
   "cell_type": "code",
   "execution_count": null,
   "metadata": {},
   "outputs": [],
   "source": [
    "# Network Topology\n",
    "- Change the code anyway you like its just a basic stucture"
   ]
  },
  {
   "cell_type": "code",
   "execution_count": 9,
   "metadata": {},
   "outputs": [],
   "source": [
    "class Topology:\n",
    "    \n",
    "    def __init__(self, array_of_points):\n",
    "        self.nodes = array_of_points\n",
    "        self.edges = []\n",
    " \n",
    "    def add_direct_connection(self, p1, p2, cost):\n",
    "        self.edges.append((p1, p2, cost))\n",
    "        self.edges.append((p2, p1, cost))\n",
    "    \n",
    "    def distance_vector_routing(self):\n",
    "        import collections\n",
    "        for node in self.nodes:\n",
    "            dist = collections.defaultdict(int)\n",
    "            next_hop = {node: node}\n",
    "            for other_node in self.nodes:\n",
    "                if other_node != node:\n",
    "                    dist[other_node] = 100000000 # infinity\n",
    "                \n",
    "            # Bellman Ford Algorithm\n",
    "            for i in range(len(self.nodes)-1):\n",
    "                for edge in self.edges:\n",
    "                    src, dest, cost = edge\n",
    "                    if dist[src] + cost < dist[dest]:\n",
    "                        dist[dest] = dist[src] + cost\n",
    "                        if src == node:\n",
    "                            next_hop[dest] =dest\n",
    "                        elif src in next_hop:\n",
    "                            next_hop[dest] = next_hop[src]\n",
    "            \n",
    "            self.print_routing_table(node, dist, next_hop)\n",
    "            print()\n",
    "            \n",
    "    def print_routing_table(self, node, dist, next_hop):\n",
    "        print(f'Routing table for {node}:')\n",
    "        print('Destination \\t      Cost \\t        Next Hop')\n",
    "        for dest, cost in dist.items():\n",
    "            print(f'{dest} \\t\\t {cost} \\t\\t {next_hop[dest]}')"
   ]
  },
  {
   "cell_type": "code",
   "execution_count": 10,
   "metadata": {},
   "outputs": [
    {
     "output_type": "stream",
     "name": "stdout",
     "text": [
      "Routing table for A:\nDestination \t      Cost \t        Next Hop\nB \t\t 1 \t\t B\nC \t\t 4 \t\t B\nD \t\t 8 \t\t B\nE \t\t 10 \t\t B\nA \t\t 0 \t\t A\n\nRouting table for B:\nDestination \t      Cost \t        Next Hop\nA \t\t 1 \t\t A\nC \t\t 3 \t\t C\nD \t\t 7 \t\t C\nE \t\t 9 \t\t E\nB \t\t 0 \t\t B\n\nRouting table for C:\nDestination \t      Cost \t        Next Hop\nA \t\t 4 \t\t B\nB \t\t 3 \t\t B\nD \t\t 4 \t\t D\nE \t\t 6 \t\t D\nC \t\t 0 \t\t C\n\nRouting table for D:\nDestination \t      Cost \t        Next Hop\nA \t\t 8 \t\t C\nB \t\t 7 \t\t C\nC \t\t 4 \t\t C\nE \t\t 2 \t\t E\nD \t\t 0 \t\t D\n\nRouting table for E:\nDestination \t      Cost \t        Next Hop\nA \t\t 10 \t\t B\nB \t\t 9 \t\t B\nC \t\t 6 \t\t D\nD \t\t 2 \t\t D\nE \t\t 0 \t\t E\n\n"
     ]
    }
   ],
   "source": [
    "nodes = ['A', 'B', 'C', 'D', 'E']\n",
    "\n",
    "t = Topology(nodes)\n",
    "\n",
    "t.add_direct_connection('A', 'B', 1)\n",
    "t.add_direct_connection('A', 'C', 5)\n",
    "t.add_direct_connection('B', 'C', 3)\n",
    "t.add_direct_connection('B', 'E', 9)\n",
    "t.add_direct_connection('C', 'D', 4)\n",
    "t.add_direct_connection('D', 'E', 2)\n",
    "\n",
    "t.distance_vector_routing()"
   ]
  }
 ]
}